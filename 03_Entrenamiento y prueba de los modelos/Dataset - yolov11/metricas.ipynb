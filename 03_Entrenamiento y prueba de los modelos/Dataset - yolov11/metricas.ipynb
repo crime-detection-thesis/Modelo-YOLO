{
 "cells": [
  {
   "cell_type": "code",
   "execution_count": 1,
   "metadata": {},
   "outputs": [
    {
     "name": "stdout",
     "output_type": "stream",
     "text": [
      "Creating new Ultralytics Settings v0.0.6 file  \n",
      "View Ultralytics Settings with 'yolo settings' or at 'C:\\Users\\karlo\\AppData\\Roaming\\Ultralytics\\settings.json'\n",
      "Update Settings with 'yolo settings key=value', i.e. 'yolo settings runs_dir=path/to/dir'. For help see https://docs.ultralytics.com/quickstart/#ultralytics-settings.\n"
     ]
    }
   ],
   "source": [
    "from ultralytics import YOLO\n",
    "import pandas as pd"
   ]
  },
  {
   "cell_type": "code",
   "execution_count": 4,
   "metadata": {},
   "outputs": [],
   "source": [
    "def evaluar_modelo():\n",
    "    # Cargar el modelo YOLOv8 entrenado\n",
    "    model = YOLO('runs/detect/pistola_detection_peru/weights/best.pt')\n",
    "\n",
    "    # Evaluar en el set de validación\n",
    "    metrics = model.val(\n",
    "        data='data.yaml',\n",
    "        imgsz=640,\n",
    "        batch=16,\n",
    "        device=0,\n",
    "        conf=0.2  # Umbral de confianza\n",
    "    )\n",
    "\n",
    "    # Acceder a las métricas desde el objeto .box\n",
    "    precision = metrics.box.p.mean()      # Precisión media\n",
    "    recall = metrics.box.r.mean()         # Recall medio\n",
    "    map_50 = metrics.box.map50            # mAP@0.5\n",
    "    map_50_95 = metrics.box.map           # mAP@0.5:0.95\n",
    "\n",
    "    # Mostrar métricas\n",
    "    print(\"=== Métricas de Evaluación ===\")\n",
    "    print(f\"Precisión media:     {precision:.4f}\")\n",
    "    print(f\"Recall medio:        {recall:.4f}\")\n",
    "    print(f\"mAP@0.5:             {map_50:.4f}\")\n",
    "    print(f\"mAP@0.5:0.95:        {map_50_95:.4f}\")\n",
    "\n",
    "    # Guardar resultados en CSV\n",
    "    resultados = {\n",
    "        'Precision': [precision],\n",
    "        'Recall': [recall],\n",
    "        'mAP@0.5': [map_50],\n",
    "        'mAP@0.5:0.95': [map_50_95]\n",
    "    }\n",
    "\n",
    "    df_resultados = pd.DataFrame(resultados)\n",
    "    df_resultados.to_csv('resultados_evaluacion_yolo.csv', index=False)\n",
    "    print(\"\\nResultados guardados en 'resultados_evaluacion_yolo.csv'.\")"
   ]
  },
  {
   "cell_type": "code",
   "execution_count": 5,
   "metadata": {},
   "outputs": [
    {
     "name": "stdout",
     "output_type": "stream",
     "text": [
      "Ultralytics 8.3.119  Python-3.10.4 torch-2.7.0+cu118 CUDA:0 (NVIDIA GeForce RTX 3060 Laptop GPU, 6144MiB)\n",
      "YOLO11n summary (fused): 100 layers, 2,582,347 parameters, 0 gradients, 6.3 GFLOPs\n",
      "Downloading https://ultralytics.com/assets/Arial.ttf to 'C:\\Users\\karlo\\AppData\\Roaming\\Ultralytics\\Arial.ttf'...\n"
     ]
    },
    {
     "name": "stderr",
     "output_type": "stream",
     "text": [
      "100%|██████████| 755k/755k [00:00<00:00, 12.7MB/s]"
     ]
    },
    {
     "name": "stdout",
     "output_type": "stream",
     "text": [
      "\u001b[34m\u001b[1mval: \u001b[0mFast image access  (ping: 0.30.1 ms, read: 96.741.6 MB/s, size: 33.4 KB)\n"
     ]
    },
    {
     "name": "stderr",
     "output_type": "stream",
     "text": [
      "\n",
      "\u001b[34m\u001b[1mval: \u001b[0mScanning C:\\Users\\karlo\\Desktop\\Tesis_2025_01\\02_Entrenamiento y prueba de los modelos\\Dataset - yolov11\\datasets\\valid\\labels.cache... 1174 images, 587 backgrounds, 0 corrupt: 100%|██████████| 1174/1174 [00:00<?, ?it/s]\n",
      "                 Class     Images  Instances      Box(P          R      mAP50  mAP50-95): 100%|██████████| 74/74 [00:07<00:00,  9.51it/s]\n"
     ]
    },
    {
     "name": "stdout",
     "output_type": "stream",
     "text": [
      "                   all       1174        625      0.881      0.757      0.853      0.513\n",
      "Speed: 0.4ms preprocess, 3.3ms inference, 0.0ms loss, 0.9ms postprocess per image\n",
      "Results saved to \u001b[1mruns\\detect\\val\u001b[0m\n",
      "=== Métricas de Evaluación ===\n",
      "Precisión media:     0.8808\n",
      "Recall medio:        0.7568\n",
      "mAP@0.5:             0.8529\n",
      "mAP@0.5:0.95:        0.5126\n",
      "\n",
      "Resultados guardados en 'resultados_evaluacion_yolo.csv'.\n"
     ]
    }
   ],
   "source": [
    "\n",
    "if __name__ == \"__main__\":\n",
    "    evaluar_modelo()"
   ]
  }
 ],
 "metadata": {
  "kernelspec": {
   "display_name": "Python 3",
   "language": "python",
   "name": "python3"
  },
  "language_info": {
   "codemirror_mode": {
    "name": "ipython",
    "version": 3
   },
   "file_extension": ".py",
   "mimetype": "text/x-python",
   "name": "python",
   "nbconvert_exporter": "python",
   "pygments_lexer": "ipython3",
   "version": "3.10.4"
  }
 },
 "nbformat": 4,
 "nbformat_minor": 2
}
