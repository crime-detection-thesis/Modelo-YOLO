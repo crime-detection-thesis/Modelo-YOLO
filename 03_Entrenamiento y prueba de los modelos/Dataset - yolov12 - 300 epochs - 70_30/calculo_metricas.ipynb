{
 "cells": [
  {
   "cell_type": "code",
   "execution_count": 1,
   "metadata": {},
   "outputs": [],
   "source": [
    "from ultralytics import YOLO\n",
    "import pandas as pd"
   ]
  },
  {
   "cell_type": "code",
   "execution_count": 4,
   "metadata": {},
   "outputs": [],
   "source": [
    "def evaluar_modelo():\n",
    "    # Cargar el modelo YOLOv8 entrenado\n",
    "    model = YOLO('runs/detect/pistola_detection_peru/weights/best.pt')\n",
    "\n",
    "    # Evaluar en el set de validación\n",
    "    metrics = model.val(\n",
    "        data='data.yaml',\n",
    "        imgsz=640,\n",
    "        batch=16,\n",
    "        device=0\n",
    "    )\n",
    "\n",
    "    # Acceder a las métricas desde el objeto .box\n",
    "    precision    = metrics.box.p.mean()      # Precisión media\n",
    "    recall       = metrics.box.r.mean()      # Recall medio\n",
    "    map_50       = metrics.box.map50         # mAP@0.5\n",
    "    map_50_95    = metrics.box.map           # mAP@0.5:0.95\n",
    "    f1_score     = metrics.box.f1.mean()     # F1 Score medio\n",
    "\n",
    "    # Mostrar métricas\n",
    "    print(\"=== Métricas de Evaluación ===\")\n",
    "    print(f\"Precisión media:     {precision:.4f}\")\n",
    "    print(f\"Recall medio:        {recall:.4f}\")\n",
    "    print(f\"mAP@0.5:             {map_50:.4f}\")\n",
    "    print(f\"mAP@0.5:0.95:        {map_50_95:.4f}\")\n",
    "    print(f\"F1 Score medio:      {f1_score:.4f}\")\n",
    "\n",
    "    # Guardar resultados en CSV (sin la matriz de confusión)\n",
    "    resultados = {\n",
    "        'Precision': [precision],\n",
    "        'Recall':    [recall],\n",
    "        'mAP@0.5':   [map_50],\n",
    "        'mAP@0.5:0.95': [map_50_95],\n",
    "        'F1 Score':  [f1_score]\n",
    "    }\n",
    "    df_resultados = pd.DataFrame(resultados)\n",
    "    df_resultados.to_csv('resultados_evaluacion_yolo.csv', index=False)\n",
    "    print(\"\\nResultados guardados en 'resultados_evaluacion_yolo.csv'.\")"
   ]
  },
  {
   "cell_type": "code",
   "execution_count": 5,
   "metadata": {},
   "outputs": [
    {
     "name": "stdout",
     "output_type": "stream",
     "text": [
      "Ultralytics 8.3.119  Python-3.10.4 torch-2.7.0+cu118 CUDA:0 (NVIDIA GeForce RTX 3060 Laptop GPU, 6144MiB)\n",
      "YOLOv12n summary (fused): 159 layers, 2,556,923 parameters, 0 gradients, 6.3 GFLOPs\n",
      "\u001b[34m\u001b[1mval: \u001b[0mFast image access  (ping: 0.40.2 ms, read: 81.652.9 MB/s, size: 35.1 KB)\n"
     ]
    },
    {
     "name": "stderr",
     "output_type": "stream",
     "text": [
      "\u001b[34m\u001b[1mval: \u001b[0mScanning C:\\Users\\karlo\\Desktop\\Tesis_2025_01\\02_Entrenamiento y prueba de los modelos\\Dataset - yolov12 - 300 epochs - 70_30\\datasets\\valid\\labels.cache... 2094 images, 587 backgrounds, 0 corrupt: 100%|██████████| 2094/2094 [00:00<?, ?it/s]\n",
      "                 Class     Images  Instances      Box(P          R      mAP50  mAP50-95): 100%|██████████| 131/131 [00:24<00:00,  5.41it/s]\n"
     ]
    },
    {
     "name": "stdout",
     "output_type": "stream",
     "text": [
      "                   all       2094       1603      0.943      0.896      0.952      0.651\n",
      "Speed: 0.4ms preprocess, 7.1ms inference, 0.0ms loss, 1.2ms postprocess per image\n",
      "Results saved to \u001b[1mruns\\detect\\val\u001b[0m\n",
      "=== Métricas de Evaluación ===\n",
      "Precisión media:     0.9429\n",
      "Recall medio:        0.8959\n",
      "mAP@0.5:             0.9517\n",
      "mAP@0.5:0.95:        0.6508\n",
      "F1 Score medio:      0.9188\n",
      "\n",
      "Resultados guardados en 'resultados_evaluacion_yolo.csv'.\n"
     ]
    }
   ],
   "source": [
    "\n",
    "if __name__ == \"__main__\":\n",
    "    evaluar_modelo()"
   ]
  }
 ],
 "metadata": {
  "kernelspec": {
   "display_name": "Python 3",
   "language": "python",
   "name": "python3"
  },
  "language_info": {
   "codemirror_mode": {
    "name": "ipython",
    "version": 3
   },
   "file_extension": ".py",
   "mimetype": "text/x-python",
   "name": "python",
   "nbconvert_exporter": "python",
   "pygments_lexer": "ipython3",
   "version": "3.10.4"
  }
 },
 "nbformat": 4,
 "nbformat_minor": 2
}
